{
 "cells": [
  {
   "cell_type": "markdown",
   "metadata": {},
   "source": [
    "# A/B Testing"
   ]
  },
  {
   "cell_type": "code",
   "execution_count": 1,
   "metadata": {},
   "outputs": [],
   "source": [
    "import pandas as pd\n",
    "import numpy as np\n",
    "from scipy.stats import mannwhitneyu,chi2_contingency"
   ]
  },
  {
   "cell_type": "markdown",
   "metadata": {},
   "source": [
    "### Reading data "
   ]
  },
  {
   "cell_type": "code",
   "execution_count": 2,
   "metadata": {},
   "outputs": [
    {
     "data": {
      "text/html": [
       "<div>\n",
       "<style scoped>\n",
       "    .dataframe tbody tr th:only-of-type {\n",
       "        vertical-align: middle;\n",
       "    }\n",
       "\n",
       "    .dataframe tbody tr th {\n",
       "        vertical-align: top;\n",
       "    }\n",
       "\n",
       "    .dataframe thead th {\n",
       "        text-align: right;\n",
       "    }\n",
       "</style>\n",
       "<table border=\"1\" class=\"dataframe\">\n",
       "  <thead>\n",
       "    <tr style=\"text-align: right;\">\n",
       "      <th></th>\n",
       "      <th>ad_id</th>\n",
       "      <th>reporting_start</th>\n",
       "      <th>reporting_end</th>\n",
       "      <th>campaign_id</th>\n",
       "      <th>fb_campaign_id</th>\n",
       "      <th>age</th>\n",
       "      <th>gender</th>\n",
       "      <th>interest1</th>\n",
       "      <th>interest2</th>\n",
       "      <th>interest3</th>\n",
       "      <th>impressions</th>\n",
       "      <th>clicks</th>\n",
       "      <th>spent</th>\n",
       "      <th>total_conversion</th>\n",
       "      <th>approved_conversion</th>\n",
       "    </tr>\n",
       "  </thead>\n",
       "  <tbody>\n",
       "    <tr>\n",
       "      <th>0</th>\n",
       "      <td>708746</td>\n",
       "      <td>17/08/2017</td>\n",
       "      <td>17/08/2017</td>\n",
       "      <td>916</td>\n",
       "      <td>103916</td>\n",
       "      <td>30-34</td>\n",
       "      <td>M</td>\n",
       "      <td>15</td>\n",
       "      <td>17</td>\n",
       "      <td>17</td>\n",
       "      <td>7350.000000</td>\n",
       "      <td>1</td>\n",
       "      <td>1.43</td>\n",
       "      <td>2.0</td>\n",
       "      <td>1.0</td>\n",
       "    </tr>\n",
       "    <tr>\n",
       "      <th>1</th>\n",
       "      <td>708749</td>\n",
       "      <td>17/08/2017</td>\n",
       "      <td>17/08/2017</td>\n",
       "      <td>916</td>\n",
       "      <td>103917</td>\n",
       "      <td>30-34</td>\n",
       "      <td>M</td>\n",
       "      <td>16</td>\n",
       "      <td>19</td>\n",
       "      <td>21</td>\n",
       "      <td>17861.000000</td>\n",
       "      <td>2</td>\n",
       "      <td>1.82</td>\n",
       "      <td>2.0</td>\n",
       "      <td>0.0</td>\n",
       "    </tr>\n",
       "    <tr>\n",
       "      <th>2</th>\n",
       "      <td>708771</td>\n",
       "      <td>17/08/2017</td>\n",
       "      <td>17/08/2017</td>\n",
       "      <td>916</td>\n",
       "      <td>103920</td>\n",
       "      <td>30-34</td>\n",
       "      <td>M</td>\n",
       "      <td>20</td>\n",
       "      <td>25</td>\n",
       "      <td>22</td>\n",
       "      <td>693.000000</td>\n",
       "      <td>0</td>\n",
       "      <td>0.00</td>\n",
       "      <td>1.0</td>\n",
       "      <td>0.0</td>\n",
       "    </tr>\n",
       "    <tr>\n",
       "      <th>3</th>\n",
       "      <td>708815</td>\n",
       "      <td>30/08/2017</td>\n",
       "      <td>30/08/2017</td>\n",
       "      <td>916</td>\n",
       "      <td>103928</td>\n",
       "      <td>30-34</td>\n",
       "      <td>M</td>\n",
       "      <td>28</td>\n",
       "      <td>32</td>\n",
       "      <td>32</td>\n",
       "      <td>4259.000000</td>\n",
       "      <td>1</td>\n",
       "      <td>1.25</td>\n",
       "      <td>1.0</td>\n",
       "      <td>0.0</td>\n",
       "    </tr>\n",
       "    <tr>\n",
       "      <th>4</th>\n",
       "      <td>708818</td>\n",
       "      <td>17/08/2017</td>\n",
       "      <td>17/08/2017</td>\n",
       "      <td>916</td>\n",
       "      <td>103928</td>\n",
       "      <td>30-34</td>\n",
       "      <td>M</td>\n",
       "      <td>28</td>\n",
       "      <td>33</td>\n",
       "      <td>32</td>\n",
       "      <td>4133.000000</td>\n",
       "      <td>1</td>\n",
       "      <td>1.29</td>\n",
       "      <td>1.0</td>\n",
       "      <td>1.0</td>\n",
       "    </tr>\n",
       "    <tr>\n",
       "      <th>...</th>\n",
       "      <td>...</td>\n",
       "      <td>...</td>\n",
       "      <td>...</td>\n",
       "      <td>...</td>\n",
       "      <td>...</td>\n",
       "      <td>...</td>\n",
       "      <td>...</td>\n",
       "      <td>...</td>\n",
       "      <td>...</td>\n",
       "      <td>...</td>\n",
       "      <td>...</td>\n",
       "      <td>...</td>\n",
       "      <td>...</td>\n",
       "      <td>...</td>\n",
       "      <td>...</td>\n",
       "    </tr>\n",
       "    <tr>\n",
       "      <th>1138</th>\n",
       "      <td>1314410</td>\n",
       "      <td>19/08/2017</td>\n",
       "      <td>19/08/2017</td>\n",
       "      <td>45-49</td>\n",
       "      <td>F</td>\n",
       "      <td>109</td>\n",
       "      <td>111</td>\n",
       "      <td>114</td>\n",
       "      <td>1129773</td>\n",
       "      <td>252</td>\n",
       "      <td>358.189997</td>\n",
       "      <td>13</td>\n",
       "      <td>2.00</td>\n",
       "      <td>NaN</td>\n",
       "      <td>NaN</td>\n",
       "    </tr>\n",
       "    <tr>\n",
       "      <th>1139</th>\n",
       "      <td>1314411</td>\n",
       "      <td>19/08/2017</td>\n",
       "      <td>19/08/2017</td>\n",
       "      <td>45-49</td>\n",
       "      <td>F</td>\n",
       "      <td>110</td>\n",
       "      <td>111</td>\n",
       "      <td>116</td>\n",
       "      <td>637549</td>\n",
       "      <td>120</td>\n",
       "      <td>173.880003</td>\n",
       "      <td>3</td>\n",
       "      <td>0.00</td>\n",
       "      <td>NaN</td>\n",
       "      <td>NaN</td>\n",
       "    </tr>\n",
       "    <tr>\n",
       "      <th>1140</th>\n",
       "      <td>1314412</td>\n",
       "      <td>19/08/2017</td>\n",
       "      <td>19/08/2017</td>\n",
       "      <td>45-49</td>\n",
       "      <td>F</td>\n",
       "      <td>111</td>\n",
       "      <td>113</td>\n",
       "      <td>117</td>\n",
       "      <td>151531</td>\n",
       "      <td>28</td>\n",
       "      <td>40.289999</td>\n",
       "      <td>2</td>\n",
       "      <td>0.00</td>\n",
       "      <td>NaN</td>\n",
       "      <td>NaN</td>\n",
       "    </tr>\n",
       "    <tr>\n",
       "      <th>1141</th>\n",
       "      <td>1314414</td>\n",
       "      <td>17/08/2017</td>\n",
       "      <td>17/08/2017</td>\n",
       "      <td>45-49</td>\n",
       "      <td>F</td>\n",
       "      <td>113</td>\n",
       "      <td>114</td>\n",
       "      <td>117</td>\n",
       "      <td>790253</td>\n",
       "      <td>135</td>\n",
       "      <td>198.710001</td>\n",
       "      <td>8</td>\n",
       "      <td>2.00</td>\n",
       "      <td>NaN</td>\n",
       "      <td>NaN</td>\n",
       "    </tr>\n",
       "    <tr>\n",
       "      <th>1142</th>\n",
       "      <td>1314415</td>\n",
       "      <td>17/08/2017</td>\n",
       "      <td>17/08/2017</td>\n",
       "      <td>45-49</td>\n",
       "      <td>F</td>\n",
       "      <td>114</td>\n",
       "      <td>116</td>\n",
       "      <td>118</td>\n",
       "      <td>513161</td>\n",
       "      <td>114</td>\n",
       "      <td>165.609999</td>\n",
       "      <td>5</td>\n",
       "      <td>2.00</td>\n",
       "      <td>NaN</td>\n",
       "      <td>NaN</td>\n",
       "    </tr>\n",
       "  </tbody>\n",
       "</table>\n",
       "<p>1143 rows × 15 columns</p>\n",
       "</div>"
      ],
      "text/plain": [
       "        ad_id reporting_start reporting_end campaign_id fb_campaign_id    age  \\\n",
       "0      708746      17/08/2017    17/08/2017         916         103916  30-34   \n",
       "1      708749      17/08/2017    17/08/2017         916         103917  30-34   \n",
       "2      708771      17/08/2017    17/08/2017         916         103920  30-34   \n",
       "3      708815      30/08/2017    30/08/2017         916         103928  30-34   \n",
       "4      708818      17/08/2017    17/08/2017         916         103928  30-34   \n",
       "...       ...             ...           ...         ...            ...    ...   \n",
       "1138  1314410      19/08/2017    19/08/2017       45-49              F    109   \n",
       "1139  1314411      19/08/2017    19/08/2017       45-49              F    110   \n",
       "1140  1314412      19/08/2017    19/08/2017       45-49              F    111   \n",
       "1141  1314414      17/08/2017    17/08/2017       45-49              F    113   \n",
       "1142  1314415      17/08/2017    17/08/2017       45-49              F    114   \n",
       "\n",
       "     gender  interest1  interest2  interest3   impressions  clicks  spent  \\\n",
       "0         M         15         17         17   7350.000000       1   1.43   \n",
       "1         M         16         19         21  17861.000000       2   1.82   \n",
       "2         M         20         25         22    693.000000       0   0.00   \n",
       "3         M         28         32         32   4259.000000       1   1.25   \n",
       "4         M         28         33         32   4133.000000       1   1.29   \n",
       "...     ...        ...        ...        ...           ...     ...    ...   \n",
       "1138    111        114    1129773        252    358.189997      13   2.00   \n",
       "1139    111        116     637549        120    173.880003       3   0.00   \n",
       "1140    113        117     151531         28     40.289999       2   0.00   \n",
       "1141    114        117     790253        135    198.710001       8   2.00   \n",
       "1142    116        118     513161        114    165.609999       5   2.00   \n",
       "\n",
       "      total_conversion  approved_conversion  \n",
       "0                  2.0                  1.0  \n",
       "1                  2.0                  0.0  \n",
       "2                  1.0                  0.0  \n",
       "3                  1.0                  0.0  \n",
       "4                  1.0                  1.0  \n",
       "...                ...                  ...  \n",
       "1138               NaN                  NaN  \n",
       "1139               NaN                  NaN  \n",
       "1140               NaN                  NaN  \n",
       "1141               NaN                  NaN  \n",
       "1142               NaN                  NaN  \n",
       "\n",
       "[1143 rows x 15 columns]"
      ]
     },
     "execution_count": 2,
     "metadata": {},
     "output_type": "execute_result"
    }
   ],
   "source": [
    "###read data.csv\n",
    "df = pd.read_csv('data.csv')\n",
    "df"
   ]
  },
  {
   "cell_type": "code",
   "execution_count": 3,
   "metadata": {},
   "outputs": [
    {
     "data": {
      "text/plain": [
       "Index(['ad_id', 'reporting_start', 'reporting_end', 'campaign_id',\n",
       "       'fb_campaign_id', 'age', 'gender', 'interest1', 'interest2',\n",
       "       'interest3', 'impressions', 'clicks', 'spent', 'total_conversion',\n",
       "       'approved_conversion'],\n",
       "      dtype='object')"
      ]
     },
     "execution_count": 3,
     "metadata": {},
     "output_type": "execute_result"
    }
   ],
   "source": [
    "df.columns"
   ]
  },
  {
   "cell_type": "code",
   "execution_count": 4,
   "metadata": {},
   "outputs": [],
   "source": [
    "import numpy as np"
   ]
  },
  {
   "cell_type": "code",
   "execution_count": 5,
   "metadata": {},
   "outputs": [],
   "source": [
    "import scipy.stats as stats"
   ]
  },
  {
   "cell_type": "code",
   "execution_count": 6,
   "metadata": {},
   "outputs": [
    {
     "data": {
      "text/plain": [
       "array(['916', '936', '1178', '45-49', '30-34', '35-39', '40-44'],\n",
       "      dtype=object)"
      ]
     },
     "execution_count": 6,
     "metadata": {},
     "output_type": "execute_result"
    }
   ],
   "source": [
    "df[\"campaign_id\"].unique()"
   ]
  },
  {
   "cell_type": "code",
   "execution_count": 7,
   "metadata": {},
   "outputs": [
    {
     "data": {
      "text/plain": [
       "campaign_id\n",
       "936      464\n",
       "1178     243\n",
       "45-49    144\n",
       "30-34     99\n",
       "40-44     71\n",
       "35-39     68\n",
       "916       54\n",
       "Name: count, dtype: int64"
      ]
     },
     "execution_count": 7,
     "metadata": {},
     "output_type": "execute_result"
    }
   ],
   "source": [
    "###count the number of unique campaign_id and count of top 3 campaigns\n",
    "ncampaigns = df[\"campaign_id\"].nunique()\n",
    "\n",
    "df[\"campaign_id\"].value_counts()"
   ]
  },
  {
   "cell_type": "markdown",
   "metadata": {},
   "source": [
    "### Populating the campaign data target class"
   ]
  },
  {
   "cell_type": "code",
   "execution_count": 8,
   "metadata": {},
   "outputs": [],
   "source": [
    "df[\"campaign_id\"] = df[\"campaign_id\"].replace(\"45-49\",\"916\")\n",
    "df[\"campaign_id\"] = df[\"campaign_id\"].replace(\"40-44\",\"916\")\n",
    "df[\"campaign_id\"] = df[\"campaign_id\"].replace(\"30-34\",\"1178\")\n",
    "df[\"campaign_id\"] = df[\"campaign_id\"].replace(\"35-39\",\"916\")"
   ]
  },
  {
   "cell_type": "code",
   "execution_count": 9,
   "metadata": {},
   "outputs": [
    {
     "data": {
      "text/plain": [
       "campaign_id\n",
       "936     464\n",
       "1178    342\n",
       "916     337\n",
       "Name: count, dtype: int64"
      ]
     },
     "execution_count": 9,
     "metadata": {},
     "output_type": "execute_result"
    }
   ],
   "source": [
    "df[\"campaign_id\"].value_counts()"
   ]
  },
  {
   "cell_type": "code",
   "execution_count": 10,
   "metadata": {},
   "outputs": [
    {
     "data": {
      "text/plain": [
       "[464, 342, 337]"
      ]
     },
     "execution_count": 10,
     "metadata": {},
     "output_type": "execute_result"
    }
   ],
   "source": [
    "df[\"campaign_id\"].value_counts().to_list()"
   ]
  },
  {
   "cell_type": "code",
   "execution_count": 11,
   "metadata": {},
   "outputs": [
    {
     "data": {
      "text/plain": [
       "approved_conversion\n",
       "0.0    30\n",
       "1.0    24\n",
       "Name: count, dtype: int64"
      ]
     },
     "execution_count": 11,
     "metadata": {},
     "output_type": "execute_result"
    }
   ],
   "source": [
    "### show approved conversions of campaign 916\n",
    "df[df[\"campaign_id\"] == \"916\"][\"approved_conversion\"].value_counts()"
   ]
  },
  {
   "cell_type": "code",
   "execution_count": 12,
   "metadata": {},
   "outputs": [
    {
     "data": {
      "text/plain": [
       "382"
      ]
     },
     "execution_count": 12,
     "metadata": {},
     "output_type": "execute_result"
    }
   ],
   "source": [
    "###count nan values in approved_conversion\n",
    "df[\"approved_conversion\"].isna().sum()"
   ]
  },
  {
   "cell_type": "code",
   "execution_count": 13,
   "metadata": {},
   "outputs": [
    {
     "data": {
      "text/plain": [
       "ad_id                    0\n",
       "reporting_start          0\n",
       "reporting_end            0\n",
       "campaign_id              0\n",
       "fb_campaign_id           0\n",
       "age                      0\n",
       "gender                   0\n",
       "interest1                0\n",
       "interest2                0\n",
       "interest3                0\n",
       "impressions              0\n",
       "clicks                   0\n",
       "spent                    0\n",
       "total_conversion       382\n",
       "approved_conversion    382\n",
       "dtype: int64"
      ]
     },
     "execution_count": 13,
     "metadata": {},
     "output_type": "execute_result"
    }
   ],
   "source": [
    "df.isna().sum()"
   ]
  },
  {
   "cell_type": "markdown",
   "metadata": {},
   "source": [
    "### fill up nan values in approved_conversion with median of 10 values before and after\n"
   ]
  },
  {
   "cell_type": "code",
   "execution_count": 14,
   "metadata": {},
   "outputs": [
    {
     "data": {
      "text/plain": [
       "0"
      ]
     },
     "execution_count": 14,
     "metadata": {},
     "output_type": "execute_result"
    }
   ],
   "source": [
    "def fill_na_with_median(series, window_size=10):\n",
    "    non_nan_values = series.dropna()\n",
    "    if len(non_nan_values) >= window_size:\n",
    "        median_value = non_nan_values[-window_size:].median()\n",
    "        return int(median_value)\n",
    "    else:\n",
    "        return np.nan\n",
    "\n",
    "### Apply the function to fill NaN values in the DataFrame\n",
    "df['approved_conversion'] = df['approved_conversion'].fillna(df['approved_conversion'].apply(lambda x: fill_na_with_median(df['approved_conversion'])))\n",
    "df['approved_conversion'].isna().sum() ###Checking if there are any NaN values left"
   ]
  },
  {
   "cell_type": "markdown",
   "metadata": {},
   "source": [
    "### approved conversions for each campaign"
   ]
  },
  {
   "cell_type": "code",
   "execution_count": 15,
   "metadata": {},
   "outputs": [
    {
     "data": {
      "text/plain": [
       "campaign_id\n",
       "1178    477\n",
       "916     307\n",
       "936     183\n",
       "Name: approved_conversion, dtype: int32"
      ]
     },
     "execution_count": 15,
     "metadata": {},
     "output_type": "execute_result"
    }
   ],
   "source": [
    "observed_counts = df.groupby(\"campaign_id\")[\"approved_conversion\"].sum().astype(int)\n",
    "observed_counts"
   ]
  },
  {
   "cell_type": "markdown",
   "metadata": {},
   "source": [
    "### Expected counts under the assumption of no difference (uniform distribution)"
   ]
  },
  {
   "cell_type": "code",
   "execution_count": 16,
   "metadata": {},
   "outputs": [
    {
     "data": {
      "text/plain": [
       "campaign_id\n",
       "1178    322\n",
       "916     322\n",
       "936     322\n",
       "dtype: int32"
      ]
     },
     "execution_count": 16,
     "metadata": {},
     "output_type": "execute_result"
    }
   ],
   "source": [
    "expected_counts = np.full_like(observed_counts, np.mean(observed_counts))\n",
    "expected_counts = pd.Series(expected_counts, index=observed_counts.index)\n",
    "expected_counts"
   ]
  },
  {
   "cell_type": "markdown",
   "metadata": {},
   "source": [
    "### Perform Statistical tests to determine if there's a significant difference in the distribution"
   ]
  },
  {
   "cell_type": "markdown",
   "metadata": {},
   "source": [
    "### Chi-squared test"
   ]
  },
  {
   "cell_type": "code",
   "execution_count": 17,
   "metadata": {},
   "outputs": [
    {
     "name": "stdout",
     "output_type": "stream",
     "text": [
      "Fail to reject the null hypothesis\n"
     ]
    }
   ],
   "source": [
    "chi2_stat, p_value, dof, expected = chi2_contingency([observed_counts])\n",
    "alpha = 0.05\n",
    "if p_value <= alpha:\n",
    "    print(\"Reject the null hypothesis\")\n",
    "else:\n",
    "    print(\"Fail to reject the null hypothesis\")"
   ]
  },
  {
   "cell_type": "markdown",
   "metadata": {},
   "source": [
    "### Mann-Whitney U test"
   ]
  },
  {
   "cell_type": "code",
   "execution_count": 18,
   "metadata": {},
   "outputs": [],
   "source": [
    "group_a = df[df['campaign_id'] == \"916\"]['approved_conversion']\n",
    "group_b = df[df['campaign_id'] == \"936\"]['approved_conversion']"
   ]
  },
  {
   "cell_type": "code",
   "execution_count": 19,
   "metadata": {},
   "outputs": [
    {
     "name": "stdout",
     "output_type": "stream",
     "text": [
      "Reject the null hypothesis: There is a significant difference between the two groups.\n"
     ]
    }
   ],
   "source": [
    "statistic, p_value = mannwhitneyu(group_a, group_b)\n",
    "alpha = 0.05\n",
    "if p_value < alpha:\n",
    "    print(\"Reject the null hypothesis: There is a significant difference between the two groups.\")\n",
    "else:\n",
    "    print(\"Fail to reject the null hypothesis: There is no significant difference between the two groups.\")"
   ]
  }
 ],
 "metadata": {
  "kernelspec": {
   "display_name": "base",
   "language": "python",
   "name": "python3"
  },
  "language_info": {
   "codemirror_mode": {
    "name": "ipython",
    "version": 3
   },
   "file_extension": ".py",
   "mimetype": "text/x-python",
   "name": "python",
   "nbconvert_exporter": "python",
   "pygments_lexer": "ipython3",
   "version": "3.11.5"
  }
 },
 "nbformat": 4,
 "nbformat_minor": 2
}
